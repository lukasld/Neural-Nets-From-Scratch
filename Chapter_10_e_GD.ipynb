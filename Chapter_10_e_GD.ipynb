{
 "cells": [
  {
   "cell_type": "markdown",
   "metadata": {},
   "source": [
    "**Gradient Descent** can optimize polynomial functions, clusters and linear models and others as well. This is the strength of **GD**."
   ]
  },
  {
   "cell_type": "code",
   "execution_count": 1,
   "metadata": {},
   "outputs": [],
   "source": [
    "import numpy as np\n",
    "import matplotlib.pyplot as plt"
   ]
  },
  {
   "cell_type": "code",
   "execution_count": 2,
   "metadata": {},
   "outputs": [],
   "source": [
    "# represents a linear dataset in two dimensions of height weight\n",
    "weight_height = np.array([[242.,23.2],\n",
    "                          [290.,24.0],\n",
    "                          [340.,23.9],\n",
    "                          [363.,26.3],\n",
    "                          [430.,26.5],\n",
    "                          [450.,26.8],\n",
    "                          [500.,26.8],\n",
    "                          [720.,32.0],\n",
    "                          [714.,32.7],\n",
    "                          [850.,32.8],\n",
    "                          [920.,33.5],\n",
    "                          [920.,35.0],\n",
    "                          [955.,35.0],\n",
    "                          [925.,36.2],\n",
    "                          [975.,37.4],\n",
    "                          [950.,38.0]])"
   ]
  },
  {
   "cell_type": "code",
   "execution_count": 3,
   "metadata": {},
   "outputs": [
    {
     "data": {
      "text/plain": [
       "Text(0, 0.5, 'height')"
      ]
     },
     "execution_count": 3,
     "metadata": {},
     "output_type": "execute_result"
    },
    {
     "data": {
      "image/png": "[encoded data removed]",
      "text/plain": [
       "<Figure size 432x288 with 1 Axes>"
      ]
     },
     "metadata": {
      "needs_background": "light"
     },
     "output_type": "display_data"
    }
   ],
   "source": [
    "plt.plot(weight_height[:, 0], weight_height[:, 1], \"ob\")\n",
    "\n",
    "plt.xlabel(\"weight\")\n",
    "plt.ylabel(\"height\")"
   ]
  },
  {
   "cell_type": "markdown",
   "metadata": {},
   "source": [
    "The question is how we can now fit a line to the data, <br>\n",
    "Since we see a linear trend, we use the function of a line to do so: <br>\n",
    "$y = m*x + b$, where \n",
    "* $x$ is the x value, or weight we plop in to infer the height\n",
    "* $m$ is the slope of the line\n",
    "* $b$ is the y - intercept\n",
    "\n",
    "<br>\n",
    "predicted_height = intercept + slope * weight"
   ]
  },
  {
   "cell_type": "markdown",
   "metadata": {},
   "source": [
    "Now we need to pick a **Loss function** to determine how well our fitting is doing. <br>\n",
    "Here we choose the **Sum of the squared residuals** as our loss. <br>\n",
    "$RSS = \\sum\\limits_{i=1}^{n}(y_i - f(x_i))^2$ <br>\n",
    "* $y_i$ - actual value\n",
    "* $f(x_i)$ - predicted value, from a function we want to fit <br>\n",
    "We basically calculate our guess given 'weight' on our new function and see how far off we are compared to the **RSS** function"
   ]
  },
  {
   "cell_type": "markdown",
   "metadata": {},
   "source": [
    "In our case , the $f(x)$ is the linear function we want to fit, and $x_i$ is the predicted value of our *i-th* data - point. <br>\n",
    "Our RSS thus equates to:\n",
    "\n",
    "$RSS = \\sum\\limits_{i=1}^{n}(y_i - (m * x_i + b))^2$ <br>"
   ]
  },
  {
   "cell_type": "markdown",
   "metadata": {},
   "source": [
    "### Squared Residuals as derivative"
   ]
  },
  {
   "cell_type": "markdown",
   "metadata": {},
   "source": [
    "We have two unknown variables we want to optimize in our model: <br>\n",
    "* m $\\rightarrow$ slope\n",
    "* b $\\rightarrow$ intercept\n",
    "These are our two \"knobs\" to influence the function for fitting. <p>\n",
    "\n",
    "We'll use partial derivatives on *slope* and *intercept* to calculate the gradient $-\\nabla(slope, intercept)$ <br>\n",
    "    \n",
    "*partial derivative of the Loss function RSS in respect to the intercept* <br>\n",
    "**To derive this we need make use of the chain rule of $f'(RSS)$** = $\\sum\\limits_{i=1}^{n} -2 * (y_i - (m * x_i + b))$\n",
    "<br> As listed in the *RSS* we do this for **all of our datapoints** for **both** - **intercept and slope**\n",
    "<br> This results in the **SLOPES** of the Gradients of slope and y-intercept <p>\n",
    "\\begin{equation}\n",
    "\\begin{aligned}\n",
    "\\frac{\\partial RSS}{\\partial intercept} & = \\ (1.4 - (slope * 0.5 + intercept ))^2 \\\\\n",
    "                                        & + \\ (1.9 - (slope * 2.3 + intercept ))^2 \\\\\n",
    "                                        & + \\ (3.2 - (slope * 2.9 + intercept ))^2\n",
    "\\end{aligned}\n",
    "\\end{equation}\n",
    "    \n",
    "\\begin{equation}\n",
    "\\begin{aligned}\n",
    "\\frac{\\partial RSS}{\\partial slope}     & = \\ (1.4 - (slope * 0.5 + intercept ))^2 \\\\\n",
    "                                        & + \\ (1.9 - (slope * 2.3 + intercept ))^2 \\\\\n",
    "                                        & + \\ (3.2 - (slope * 2.9 + intercept ))^2\n",
    "\\end{aligned}\n",
    "\\end{equation}\n",
    "<br>\n",
    "After calculating the gradient we can now plug in our first intial guesses of *slope = 1* and *intercept = 0* \n",
    "<br>\n",
    "$\\frac{\\partial RSS}{\\partial intercept} = -1.6 $ <br>\n",
    "$\\frac{\\partial RSS}{\\partial slope} = -0.8 $\n",
    "    \n",
    "<p>\n",
    "Now we can plug in our results in the **Step - Size formula**, which allows us to control the stepsize through a given **learning rate = 0.01** <br>\n",
    "    \n",
    "$Step Size_{intercept} = -1.6 * LearningRate$ <br>\n",
    "$Step Size_{slope} = -0.8 * LearningRate$ <br>\n",
    "\n",
    "$newIntercept = oldIntercept - StepSize_{intercept}$ <br>\n",
    "$newSlope = oldSlope - StepSize_{slope}$\n",
    "<p>\n",
    "\n",
    "Finally - we keep repeating this gradient descent until the stepsize becomes very small, or after a given max size of steps.\n",
    "    \n",
    "\n"
   ]
  },
  {
   "cell_type": "code",
   "execution_count": 4,
   "metadata": {},
   "outputs": [],
   "source": [
    "weight_lenght = np.array([[242.,23.2],\n",
    "                          [290.,24.0],\n",
    "                          [340.,23.9],\n",
    "                          [363.,26.3],\n",
    "                          [430.,26.5],\n",
    "                          [450.,26.8],\n",
    "                          [500.,26.8],\n",
    "                          [720.,32.0],\n",
    "                          [714.,32.7],\n",
    "                          [850.,32.8],\n",
    "                          [920.,33.5],\n",
    "                          [920.,35.0],\n",
    "                          [955.,35.0],\n",
    "                          [925.,36.2],\n",
    "                          [975.,37.4],\n",
    "                          [950.,38.0]])\n",
    "\n",
    "\n",
    "weight_lenght /= 100\n",
    "weight_height = weight_lenght\n"
   ]
  },
  {
   "cell_type": "code",
   "execution_count": 5,
   "metadata": {},
   "outputs": [],
   "source": [
    "# remember -> chain rule derivative of outer * derivative of inner function!\n",
    "d_rss_intercept = lambda x_0, x_1, slope, y_ic: -2*(x_1 - (y_ic + x_0*slope))\n",
    "d_rss_slope = lambda x_0, x_1, slope, y_ic: -2*x_0*(x_1 -(y_ic + x_0*slope))"
   ]
  },
  {
   "cell_type": "code",
   "execution_count": 6,
   "metadata": {},
   "outputs": [
    {
     "name": "stdout",
     "output_type": "stream",
     "text": [
      "the slope is 0.01874135900327744\n",
      "the intercept is 0.18230841507356224\n"
     ]
    },
    {
     "data": {
      "text/plain": [
       "<matplotlib.lines._AxLine at 0x118806a00>"
      ]
     },
     "execution_count": 6,
     "metadata": {},
     "output_type": "execute_result"
    },
    {
     "data": {
      "image/png": "[encoded data removed]",
      "text/plain": [
       "<Figure size 432x288 with 1 Axes>"
      ]
     },
     "metadata": {
      "needs_background": "light"
     },
     "output_type": "display_data"
    }
   ],
   "source": [
    "# start slope\n",
    "s_slope = 1\n",
    "# start y-intercept\n",
    "s_y_intercept = 0\n",
    "learning_rate = 0.001\n",
    "\n",
    "\n",
    "def regression_line(x):\n",
    "    return s_slope*x + s_y_intercept\n",
    "\n",
    "\n",
    "for epoch in range(int(1e3)):\n",
    "    \n",
    "    slope_sum = sum([d_rss_slope(weight, height, s_slope, s_y_intercept) for weight, height in weight_height])\n",
    "    intercept_sum = sum([d_rss_intercept(weight, height, s_slope, s_y_intercept) for weight, height in weight_height])\n",
    "                    \n",
    "    intercept_stpsz = intercept_sum * learning_rate\n",
    "    slope_stpsz = slope_sum * learning_rate\n",
    "\n",
    "    s_slope -= slope_stpsz\n",
    "    s_y_intercept -= intercept_stpsz\n",
    "        \n",
    "\n",
    "plt.plot(weight_height[:, 0], weight_height[:, 1], \"ob\")\n",
    "print(f'the slope is {s_slope}')\n",
    "print(f'the intercept is {s_y_intercept}')\n",
    "plt.axline([0, regression_line(0)], [3, regression_line(3)], linewidth=2, color='r')\n",
    "\n"
   ]
  },
  {
   "cell_type": "code",
   "execution_count": null,
   "metadata": {},
   "outputs": [],
   "source": [
    "\n"
   ]
  }
 ],
 "metadata": {
  "kernelspec": {
   "display_name": "Python 3",
   "language": "python",
   "name": "python3"
  },
  "language_info": {
   "codemirror_mode": {
    "name": "ipython",
    "version": 3
   },
   "file_extension": ".py",
   "mimetype": "text/x-python",
   "name": "python",
   "nbconvert_exporter": "python",
   "pygments_lexer": "ipython3",
   "version": "3.8.5"
  }
 },
 "nbformat": 4,
 "nbformat_minor": 4
}
