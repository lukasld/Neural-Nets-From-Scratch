{
 "cells": [
  {
   "cell_type": "markdown",
   "metadata": {},
   "source": [
    "Is used for classification especially to compare ***ground truth*** (also $y$) with our ***predicted distribution*** (also $\\hat{y}$) <br>\n",
    "This is called the ***Loss-Function*** and it will give us a metric how well our network is performing."
   ]
  },
  {
   "cell_type": "markdown",
   "metadata": {},
   "source": [
    "#### Cross Entropy vs. Log Loss"
   ]
  },
  {
   "cell_type": "markdown",
   "metadata": {},
   "source": [
    "* Cross Entropy\n",
    "    * is suited to calculate ***the Loss (Error)*** for multiple Neurons, this means whith ***more*** than a single ***class***\n",
    "    * Softmax is often combined as an activation function in combination with ***Cross Entropy Loss***\n",
    "* Log Loss\n",
    "    * only suited for a single ***output*** Neuron, to classify a maximum of only ***two*** classes. The output therefore will be a binary ***0*** or ***1***."
   ]
  },
  {
   "cell_type": "markdown",
   "metadata": {},
   "source": [
    "## Formula"
   ]
  },
  {
   "attachments": {
    "05_01_Cross_Entropy_Loss.png": {
     "image/png": "[encoded data removed]"
    }
   },
   "cell_type": "markdown",
   "metadata": {},
   "source": [
    "![05_01_Cross_Entropy_Loss.png](attachment:05_01_Cross_Entropy_Loss.png)"
   ]
  },
  {
   "attachments": {
    "05_02_Cross_Entropy_Loss_display.png": {
     "image/png": "[encoded data removed]"
    }
   },
   "cell_type": "markdown",
   "metadata": {},
   "source": [
    "![05_02_Cross_Entropy_Loss_display.png](attachment:05_02_Cross_Entropy_Loss_display.png)"
   ]
  },
  {
   "cell_type": "markdown",
   "metadata": {},
   "source": [
    "$y_{i,j}=$ The ground truth target values, the $i$-th sample in the set, $j$ -th label in the feature-set <br>\n",
    "$\\hat{y}_{i,j}=$ The predicted confidences feature coming from the last ***Softmax*** layer, the $i$-th sample in the feature-set, $j$ -th label in the set."
   ]
  },
  {
   "cell_type": "markdown",
   "metadata": {},
   "source": [
    "The output of $L_{i}$ is the Error of a given target class. if $L_{i} is:$<br>\n",
    "* ***1***, then we have an Error of 0, meaning prediction $y_{i,j}$ matches ground truth $\\hat{y}_{i,j}$\n",
    "* ***0***, then we have an Error of 1, meaning prediction $y_{i,j}$, to a ***100%*** does ***NOT*** match ground truth $\\hat{y}_{i,j}$\n",
    "\n",
    "***!!!*** This can be ***confusing*** since the probability distribution from the ***Softmax*** algorithm before is mapped inversly, where 1 is confident, and 0 is not confide.t"
   ]
  },
  {
   "cell_type": "markdown",
   "metadata": {},
   "source": [
    "$log$, inverts the relationship, in that high confidence from ***Softmax*** - namely ***1*** is ***0*** loss. <br>\n",
    "* $log(0) = -\\infty$ ERROR: therefore softmax never outputs a complete 0. Our ***biases > 0*** help in that too.\n",
    "* $log(1) = 0$ we have no Loss (100% confident network)\n"
   ]
  },
  {
   "cell_type": "markdown",
   "metadata": {},
   "source": [
    "The graph nicely displays that if softmax propbabilty for a label -  confidence is ~1 (close to 100) the Loss is close to 0, <br>\n",
    "if the softmax probabilty for a label is 0, then the Loss is 100%"
   ]
  },
  {
   "cell_type": "markdown",
   "metadata": {},
   "source": [
    "## Code Implementation"
   ]
  },
  {
   "cell_type": "markdown",
   "metadata": {},
   "source": [
    "#### One-hot vectors"
   ]
  },
  {
   "cell_type": "markdown",
   "metadata": {},
   "source": [
    "One-hot vectors represent are part of the ground-truth data or target data.<br>\n",
    "Each row represents the ***target probability***. ***one-hot*** is called such, since only one sample of the class can be true. <br> therefore if we have ***n*** classes we will have a ***n*n*** matrix. The identity matrix can be used too ***identity matrix***"
   ]
  },
  {
   "cell_type": "markdown",
   "metadata": {},
   "source": [
    "In contrast to ***one-hot*** vectors we can have a single output neuron that gives a ***0 or 1***"
   ]
  },
  {
   "cell_type": "code",
   "execution_count": 1,
   "metadata": {},
   "outputs": [],
   "source": [
    "import numpy as np"
   ]
  },
  {
   "cell_type": "code",
   "execution_count": 2,
   "metadata": {},
   "outputs": [
    {
     "data": {
      "text/plain": [
       "array([[1, 0, 0],\n",
       "       [0, 1, 0],\n",
       "       [0, 0, 1]])"
      ]
     },
     "execution_count": 2,
     "metadata": {},
     "output_type": "execute_result"
    }
   ],
   "source": [
    "# SOFTMAX PROBABILITIES (example)\n",
    "softmax_outputs = np.array([[0.7, 0.1, 0.2],\n",
    "                            [0.1, 0.5, 0.4],\n",
    "                            [0.02, 0.9, 0.08]])\n",
    "\n",
    "# TARGETS (ground truth)\n",
    "# for each class (row) another neuron is fired up (each row is a one-hot vector)\n",
    "class_targets = np.array([[1, 0, 0],\n",
    "                          [0, 1, 0],\n",
    "                          [0, 0, 1]])\n",
    "\n",
    "class_targets"
   ]
  },
  {
   "cell_type": "markdown",
   "metadata": {},
   "source": [
    "#### Categorical Cross-Entropy Loss Class"
   ]
  },
  {
   "cell_type": "code",
   "execution_count": 3,
   "metadata": {},
   "outputs": [],
   "source": [
    "class Loss:\n",
    "    \n",
    "    # parent class for all of our future Loss classes\n",
    "    # will be updated in future chapters\n",
    "    def calculate(self, output, y):\n",
    "        \n",
    "        sample_losses = self.forward(output, y)\n",
    "        \n",
    "        data_loss = np.mean(sample_losses)\n",
    "        \n",
    "        return data_loss\n",
    "\n",
    "# Cross-entropy loss\n",
    "class Loss_CategoricalCrossentropy(Loss):\n",
    "    \n",
    "    # Forward pass\n",
    "    def forward(self, y_pred, y_true):\n",
    "        \n",
    "        # nr of samples in a batch\n",
    "        samples = len(y_pred)\n",
    "        \n",
    "        # clipping the data to keep it in bounds\n",
    "        y_pred_clipped = np.clip(y_pred, 1e-7, 1 - 1e-7)\n",
    "        \n",
    "        #Probabilities for target values\n",
    "        \n",
    "        #only if we have categorical labels\n",
    "        if len(y_true.shape) == 1:\n",
    "            correct_confidences = y_pred_clipped[range(samples),\n",
    "                                                 y_true]\n",
    "            \n",
    "        # for hot-one vectors (dimension is larger than one)\n",
    "        elif len(y_true.shape) == 2:\n",
    "            correct_confidences = np.sum(\n",
    "                y_pred_clipped*y_true,\n",
    "                axis=1)\n",
    "        # Losses\n",
    "        negative_log_likelihoods = -np.log(correct_confidences)\n",
    "        return negative_log_likelihoods"
   ]
  },
  {
   "cell_type": "code",
   "execution_count": 4,
   "metadata": {},
   "outputs": [
    {
     "name": "stdout",
     "output_type": "stream",
     "text": [
      "1.191850256268978\n"
     ]
    }
   ],
   "source": [
    "loss_function = Loss_CategoricalCrossentropy()\n",
    "loss = loss_function.calculate(softmax_outputs, class_targets)\n",
    "print(loss)"
   ]
  },
  {
   "cell_type": "markdown",
   "metadata": {},
   "source": [
    "#### Accuracy"
   ]
  },
  {
   "cell_type": "markdown",
   "metadata": {},
   "source": [
    "While ***Loss*** is important to update our model, ***Accuracy*** expresses the loss in terms of a fraction. So therefore we can use the output of softmax to calculate the ***Accuracy***"
   ]
  },
  {
   "cell_type": "code",
   "execution_count": 11,
   "metadata": {},
   "outputs": [
    {
     "name": "stdout",
     "output_type": "stream",
     "text": [
      "acc: 0.3333333333333333\n"
     ]
    }
   ],
   "source": [
    "\n",
    "# remember axis = 0 -> we compare each column\n",
    "#          axis = 1 -> we compare each row\n",
    "predictions = np.argmax(softmax_outputs, axis=1)\n",
    "\n",
    "# If targets are one-hot encoded - convert them\n",
    "if len(class_targets.shape) == 2:\n",
    "    class_targets = np.argmax(class_targets, axis=1)\n",
    "# True evaluates to 1; False to 0\n",
    "accuracy = np.mean(predictions == class_targets)\n",
    "\n",
    "print('acc:', accuracy)"
   ]
  },
  {
   "cell_type": "code",
   "execution_count": null,
   "metadata": {},
   "outputs": [],
   "source": []
  }
 ],
 "metadata": {
  "kernelspec": {
   "display_name": "Python 3",
   "language": "python",
   "name": "python3"
  },
  "language_info": {
   "codemirror_mode": {
    "name": "ipython",
    "version": 3
   },
   "file_extension": ".py",
   "mimetype": "text/x-python",
   "name": "python",
   "nbconvert_exporter": "python",
   "pygments_lexer": "ipython3",
   "version": "3.8.5"
  }
 },
 "nbformat": 4,
 "nbformat_minor": 4
}
